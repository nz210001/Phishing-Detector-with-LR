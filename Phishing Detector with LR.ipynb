{
 "cells": [
  {
   "cell_type": "code",
   "execution_count": 24,
   "metadata": {},
   "outputs": [],
   "source": [
    "import numpy as np\n",
    "import pandas as pd\n",
    "from sklearn.model_selection import train_test_split\n",
    "from sklearn.linear_model import LogisticRegression\n",
    "from sklearn.metrics import accuracy_score\n",
    "import matplotlib.pyplot as plt\n",
    "from matplotlib.colors import ListedColormap"
   ]
  },
  {
   "cell_type": "code",
   "execution_count": 25,
   "metadata": {},
   "outputs": [],
   "source": [
    "df = pd.read_csv(\"C:/Users/CPFNBZ/Downloads/phishing.csv\", delimiter=',', header=None)"
   ]
  },
  {
   "cell_type": "code",
   "execution_count": 26,
   "metadata": {},
   "outputs": [
    {
     "name": "stdout",
     "output_type": "stream",
     "text": [
      "   0   1   2   3   4   5   6   7   8   9   ...  21  22  23  24  25  26  27  \\\n",
      "0  -1   1   1   1  -1  -1  -1  -1  -1   1  ...   1   1  -1  -1  -1  -1   1   \n",
      "1   1   1   1   1   1  -1   0   1  -1   1  ...   1   1  -1  -1   0  -1   1   \n",
      "2   1   0   1   1   1  -1  -1  -1  -1   1  ...   1   1   1  -1   1  -1   1   \n",
      "3   1   0   1   1   1  -1  -1  -1   1   1  ...   1   1  -1  -1   1  -1   1   \n",
      "4   1   0  -1   1   1  -1   1   1  -1   1  ...  -1   1  -1  -1   0  -1   1   \n",
      "\n",
      "   28  29  30  \n",
      "0   1  -1  -1  \n",
      "1   1   1  -1  \n",
      "2   0  -1  -1  \n",
      "3  -1   1  -1  \n",
      "4   1   1   1  \n",
      "\n",
      "[5 rows x 31 columns]\n"
     ]
    }
   ],
   "source": [
    "print(df.head())"
   ]
  },
  {
   "cell_type": "code",
   "execution_count": 47,
   "metadata": {},
   "outputs": [
    {
     "name": "stdout",
     "output_type": "stream",
     "text": [
      "   UsingIP  LongURL  ShortURL  Symbol@  Redirecting//  PrefixSuffix-  \\\n",
      "0       -1        1         1        1             -1             -1   \n",
      "1        1        1         1        1              1             -1   \n",
      "2        1        0         1        1              1             -1   \n",
      "3        1        0         1        1              1             -1   \n",
      "4        1        0        -1        1              1             -1   \n",
      "\n",
      "   SubDomains  HTTPS  DomainRegLen  Favicon  ...  UsingPopupWindow  \\\n",
      "0          -1     -1            -1        1  ...                 1   \n",
      "1           0      1            -1        1  ...                 1   \n",
      "2          -1     -1            -1        1  ...                 1   \n",
      "3          -1     -1             1        1  ...                 1   \n",
      "4           1      1            -1        1  ...                -1   \n",
      "\n",
      "   IframeRedirection  AgeofDomain  DNSRecording  WebsiteTraffic  PageRank  \\\n",
      "0                  1           -1            -1              -1        -1   \n",
      "1                  1           -1            -1               0        -1   \n",
      "2                  1            1            -1               1        -1   \n",
      "3                  1           -1            -1               1        -1   \n",
      "4                  1           -1            -1               0        -1   \n",
      "\n",
      "   GoogleIndex  LinksPointingToPage  StatsReport  Class  \n",
      "0            1                    1           -1     -1  \n",
      "1            1                    1            1     -1  \n",
      "2            1                    0           -1     -1  \n",
      "3            1                   -1            1     -1  \n",
      "4            1                    1            1      1  \n",
      "\n",
      "[5 rows x 31 columns]\n"
     ]
    }
   ],
   "source": [
    "# Load the dataset with column headers\n",
    "header_list = ['UsingIP', 'LongURL', 'ShortURL', 'Symbol@', 'Redirecting//',\n",
    "               'PrefixSuffix-', 'SubDomains', 'HTTPS', 'DomainRegLen', 'Favicon',\n",
    "               'NonStdPort', 'HTTPSDomainURL', 'RequestURL', 'AnchorURL',\n",
    "               'LinksInScriptTags', 'ServerFormHandler', 'InfoEmail', 'AbnormalURL',\n",
    "               'WebsiteForwarding', 'StatusBarCust', 'DisableRightClick',\n",
    "               'UsingPopupWindow', 'IframeRedirection', 'AgeofDomain',\n",
    "               'DNSRecording', 'WebsiteTraffic', 'PageRank', 'GoogleIndex',\n",
    "               'LinksPointingToPage', 'StatsReport', 'Class']\n",
    "\n",
    "# Load the dataset with headers\n",
    "df = pd.read_csv(\"C:/Users/CPFNBZ/Downloads/phishing.csv\", header=None, names=header_list)\n",
    "print(df.head())"
   ]
  },
  {
   "cell_type": "code",
   "execution_count": 48,
   "metadata": {},
   "outputs": [],
   "source": [
    "# Assuming the last column is the target label and others are features\n",
    "#X = df.iloc[:, :-1]\n",
    "#y = df.iloc[:, -1]\n",
    "\n",
    "#Set the features and target\n",
    "features = [5, 13]  # Indices of \"PrefixSuffix-\" and \"AnchorURL\"\n",
    "X = df.iloc[:, features]\n",
    "y = df.iloc[:, -1]"
   ]
  },
  {
   "cell_type": "code",
   "execution_count": 50,
   "metadata": {},
   "outputs": [],
   "source": [
    "# Set the features and target\n",
    "features = ['PrefixSuffix-', 'AnchorURL']\n",
    "X = df[features]\n",
    "y = df['Class']"
   ]
  },
  {
   "cell_type": "code",
   "execution_count": 51,
   "metadata": {},
   "outputs": [],
   "source": [
    "# Split the data into train and test sets\n",
    "X_train, X_test, y_train, y_test = train_test_split(X, y, test_size=0.3, random_state=42)"
   ]
  },
  {
   "cell_type": "code",
   "execution_count": 38,
   "metadata": {},
   "outputs": [
    {
     "name": "stderr",
     "output_type": "stream",
     "text": [
      "C:\\Program Files\\AppV_Packages\\F4CE3137-B142-460D-B02F-83EC49C665B1\\CF236728-255E-45D7-9298-E8ACF58348C7\\Root\\VFS\\ProgramFilesX64\\Python37\\lib\\site-packages\\sklearn\\linear_model\\logistic.py:432: FutureWarning: Default solver will be changed to 'lbfgs' in 0.22. Specify a solver to silence this warning.\n",
      "  FutureWarning)\n"
     ]
    },
    {
     "data": {
      "text/plain": [
       "LogisticRegression(C=100, class_weight=None, dual=False, fit_intercept=True,\n",
       "                   intercept_scaling=1, l1_ratio=None, max_iter=100,\n",
       "                   multi_class='warn', n_jobs=None, penalty='l2',\n",
       "                   random_state=None, solver='warn', tol=0.0001, verbose=0,\n",
       "                   warm_start=False)"
      ]
     },
     "execution_count": 38,
     "metadata": {},
     "output_type": "execute_result"
    }
   ],
   "source": [
    "# Build the Logistic Regression model\n",
    "C = 100  # C parameter for regularization\n",
    "logreg = LogisticRegression(C=C)\n",
    "logreg.fit(X_train, y_train)"
   ]
  },
  {
   "cell_type": "code",
   "execution_count": 39,
   "metadata": {},
   "outputs": [],
   "source": [
    "#Predict on test data\n",
    "y_pred = logreg.predict(X_test) "
   ]
  },
  {
   "cell_type": "code",
   "execution_count": 40,
   "metadata": {},
   "outputs": [],
   "source": [
    "# Calculate accuracy score\n",
    "accuracy = accuracy_score(y_test, y_pred)\n",
    "misclassified_count = (y_test != y_pred).sum()"
   ]
  },
  {
   "cell_type": "code",
   "execution_count": 52,
   "metadata": {},
   "outputs": [
    {
     "name": "stdout",
     "output_type": "stream",
     "text": [
      "Count of misclassified samples: 482\n",
      "Accuracy score: 0.85\n"
     ]
    }
   ],
   "source": [
    "# Print results\n",
    "print(f\"Count of misclassified samples: {misclassified_count}\")\n",
    "print(f\"Accuracy score: {accuracy:.2f}\")"
   ]
  },
  {
   "cell_type": "code",
   "execution_count": 53,
   "metadata": {},
   "outputs": [],
   "source": [
    "# Plot decision boundary\n",
    "def plot_decision_boundary(X, y, model, feature_names):\n",
    "    x_min, x_max = X[:, 0].min() - 0.1, X[:, 0].max() + 0.1\n",
    "    y_min, y_max = X[:, 1].min() - 0.1, X[:, 1].max() + 0.1\n",
    "    xx, yy = np.meshgrid(np.arange(x_min, x_max, 0.01), np.arange(y_min, y_max, 0.01))\n",
    "    Z = model.predict(np.c_[xx.ravel(), yy.ravel()])\n",
    "    Z = Z.reshape(xx.shape)\n",
    "    plt.contourf(xx, yy, Z, alpha=0.3)\n",
    "    plt.scatter(X[:, 0], X[:, 1], c=y, cmap=plt.cm.Paired)\n",
    "    plt.xlabel(feature_names[0])\n",
    "    plt.ylabel(feature_names[1])\n",
    "    plt.title(\"Decision Boundary\")\n",
    "    plt.show()\n"
   ]
  },
  {
   "cell_type": "code",
   "execution_count": 43,
   "metadata": {},
   "outputs": [
    {
     "data": {
      "image/png": "[encoded data removed]",
      "text/plain": [
       "<Figure size 432x288 with 1 Axes>"
      ]
     },
     "metadata": {
      "needs_background": "light"
     },
     "output_type": "display_data"
    }
   ],
   "source": [
    "# Plot decision boundary for \"PrefixSuffix-\" and \"AnchorURL\" features\n",
    "feature_names = df.columns[features]\n",
    "plot_decision_boundary(X_test.values, y_test.values, logreg, features)"
   ]
  }
 ],
 "metadata": {
  "kernelspec": {
   "display_name": "Python 3",
   "language": "python",
   "name": "python3"
  },
  "language_info": {
   "codemirror_mode": {
    "name": "ipython",
    "version": 3
   },
   "file_extension": ".py",
   "mimetype": "text/x-python",
   "name": "python",
   "nbconvert_exporter": "python",
   "pygments_lexer": "ipython3",
   "version": "3.7.2"
  }
 },
 "nbformat": 4,
 "nbformat_minor": 2
}
